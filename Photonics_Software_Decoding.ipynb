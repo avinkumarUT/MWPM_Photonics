{
  "cells": [
    {
      "cell_type": "markdown",
      "metadata": {
        "id": "OFC8fo7I5lh1"
      },
      "source": [
        "## Library Imports"
      ]
    },
    {
      "cell_type": "code",
      "execution_count": null,
      "metadata": {
        "colab": {
          "base_uri": "https://localhost:8080/"
        },
        "collapsed": true,
        "id": "_mKvHxI7D0WO",
        "outputId": "2c69c699-1a0d-457b-fa0c-e5ab9f04e4ad"
      },
      "outputs": [
        {
          "output_type": "stream",
          "name": "stdout",
          "text": [
            "Collecting pymatching\n",
            "  Downloading PyMatching-2.2.1-cp310-cp310-manylinux_2_17_x86_64.manylinux2014_x86_64.whl.metadata (16 kB)\n",
            "Requirement already satisfied: scipy in /usr/local/lib/python3.10/dist-packages (from pymatching) (1.13.1)\n",
            "Requirement already satisfied: numpy==1.* in /usr/local/lib/python3.10/dist-packages (from pymatching) (1.26.4)\n",
            "Requirement already satisfied: networkx in /usr/local/lib/python3.10/dist-packages (from pymatching) (3.3)\n",
            "Requirement already satisfied: matplotlib in /usr/local/lib/python3.10/dist-packages (from pymatching) (3.7.1)\n",
            "Requirement already satisfied: contourpy>=1.0.1 in /usr/local/lib/python3.10/dist-packages (from matplotlib->pymatching) (1.3.0)\n",
            "Requirement already satisfied: cycler>=0.10 in /usr/local/lib/python3.10/dist-packages (from matplotlib->pymatching) (0.12.1)\n",
            "Requirement already satisfied: fonttools>=4.22.0 in /usr/local/lib/python3.10/dist-packages (from matplotlib->pymatching) (4.54.1)\n",
            "Requirement already satisfied: kiwisolver>=1.0.1 in /usr/local/lib/python3.10/dist-packages (from matplotlib->pymatching) (1.4.7)\n",
            "Requirement already satisfied: packaging>=20.0 in /usr/local/lib/python3.10/dist-packages (from matplotlib->pymatching) (24.1)\n",
            "Requirement already satisfied: pillow>=6.2.0 in /usr/local/lib/python3.10/dist-packages (from matplotlib->pymatching) (10.4.0)\n",
            "Requirement already satisfied: pyparsing>=2.3.1 in /usr/local/lib/python3.10/dist-packages (from matplotlib->pymatching) (3.1.4)\n",
            "Requirement already satisfied: python-dateutil>=2.7 in /usr/local/lib/python3.10/dist-packages (from matplotlib->pymatching) (2.8.2)\n",
            "Requirement already satisfied: six>=1.5 in /usr/local/lib/python3.10/dist-packages (from python-dateutil>=2.7->matplotlib->pymatching) (1.16.0)\n",
            "Downloading PyMatching-2.2.1-cp310-cp310-manylinux_2_17_x86_64.manylinux2014_x86_64.whl (619 kB)\n",
            "\u001b[2K   \u001b[90m━━━━━━━━━━━━━━━━━━━━━━━━━━━━━━━━━━━━━━━━\u001b[0m \u001b[32m619.4/619.4 kB\u001b[0m \u001b[31m8.3 MB/s\u001b[0m eta \u001b[36m0:00:00\u001b[0m\n",
            "\u001b[?25hInstalling collected packages: pymatching\n",
            "Successfully installed pymatching-2.2.1\n",
            "Requirement already satisfied: matplotlib in /usr/local/lib/python3.10/dist-packages (3.7.1)\n",
            "Requirement already satisfied: contourpy>=1.0.1 in /usr/local/lib/python3.10/dist-packages (from matplotlib) (1.3.0)\n",
            "Requirement already satisfied: cycler>=0.10 in /usr/local/lib/python3.10/dist-packages (from matplotlib) (0.12.1)\n",
            "Requirement already satisfied: fonttools>=4.22.0 in /usr/local/lib/python3.10/dist-packages (from matplotlib) (4.54.1)\n",
            "Requirement already satisfied: kiwisolver>=1.0.1 in /usr/local/lib/python3.10/dist-packages (from matplotlib) (1.4.7)\n",
            "Requirement already satisfied: numpy>=1.20 in /usr/local/lib/python3.10/dist-packages (from matplotlib) (1.26.4)\n",
            "Requirement already satisfied: packaging>=20.0 in /usr/local/lib/python3.10/dist-packages (from matplotlib) (24.1)\n",
            "Requirement already satisfied: pillow>=6.2.0 in /usr/local/lib/python3.10/dist-packages (from matplotlib) (10.4.0)\n",
            "Requirement already satisfied: pyparsing>=2.3.1 in /usr/local/lib/python3.10/dist-packages (from matplotlib) (3.1.4)\n",
            "Requirement already satisfied: python-dateutil>=2.7 in /usr/local/lib/python3.10/dist-packages (from matplotlib) (2.8.2)\n",
            "Requirement already satisfied: six>=1.5 in /usr/local/lib/python3.10/dist-packages (from python-dateutil>=2.7->matplotlib) (1.16.0)\n",
            "Requirement already satisfied: networkx in /usr/local/lib/python3.10/dist-packages (3.3)\n",
            "Requirement already satisfied: numpy in /usr/local/lib/python3.10/dist-packages (1.26.4)\n",
            "Requirement already satisfied: pandas in /usr/local/lib/python3.10/dist-packages (2.2.2)\n",
            "Requirement already satisfied: numpy>=1.22.4 in /usr/local/lib/python3.10/dist-packages (from pandas) (1.26.4)\n",
            "Requirement already satisfied: python-dateutil>=2.8.2 in /usr/local/lib/python3.10/dist-packages (from pandas) (2.8.2)\n",
            "Requirement already satisfied: pytz>=2020.1 in /usr/local/lib/python3.10/dist-packages (from pandas) (2024.2)\n",
            "Requirement already satisfied: tzdata>=2022.7 in /usr/local/lib/python3.10/dist-packages (from pandas) (2024.2)\n",
            "Requirement already satisfied: six>=1.5 in /usr/local/lib/python3.10/dist-packages (from python-dateutil>=2.8.2->pandas) (1.16.0)\n",
            "Requirement already satisfied: tqdm in /usr/local/lib/python3.10/dist-packages (4.66.5)\n"
          ]
        }
      ],
      "source": [
        "!pip install pymatching\n",
        "!pip install matplotlib\n",
        "!pip install networkx\n",
        "!pip install numpy\n",
        "!pip install pandas\n",
        "!pip install tqdm"
      ]
    },
    {
      "cell_type": "code",
      "execution_count": null,
      "metadata": {
        "id": "YBTAhXVi5lh3"
      },
      "outputs": [],
      "source": [
        "import time\n",
        "import math\n",
        "import random\n",
        "import itertools\n",
        "import pymatching\n",
        "import collections\n",
        "import numpy as np\n",
        "import pandas as pd\n",
        "import networkx as nx\n",
        "import matplotlib.pyplot as plt\n",
        "\n",
        "from tqdm import tqdm\n",
        "from collections import Counter"
      ]
    },
    {
      "cell_type": "markdown",
      "metadata": {
        "id": "wclDzqP15lh3"
      },
      "source": [
        "## Lattice Generation"
      ]
    },
    {
      "cell_type": "markdown",
      "metadata": {
        "id": "n1rwD1v15lh4"
      },
      "source": [
        "Now, we generate the whole Lattice. This is using the 6-qubit RSG figure from the FBQC paper: https://arxiv.org/pdf/2101.09310"
      ]
    },
    {
      "cell_type": "code",
      "execution_count": null,
      "metadata": {
        "id": "rr4Ixd8BWMcH"
      },
      "outputs": [],
      "source": [
        "\"\"\" Some simple helper functions \"\"\"\n",
        "\n",
        "def calculate_distances(point, points_list):\n",
        "    \"\"\"\n",
        "    point is the reference point as a tuple (x1, y1, z1)\n",
        "    points_list is a list of points [(x2, y2, z2), ...]\n",
        "    \"\"\"\n",
        "    distances = []\n",
        "    for p in points_list:\n",
        "        dist = np.linalg.norm(np.array(point) - np.array(p))\n",
        "        distances.append(round(dist, 2))  # Round the distance to 2 decimal places\n",
        "\n",
        "    return distances\n",
        "\n",
        "def find_indices_with_distance(distances, target_distance, tolerance=1e-2):\n",
        "    \"\"\"\n",
        "    Find all indices where the distance is approximately equal to the target distance\n",
        "    \"\"\"\n",
        "    indices = [i for i, dist in enumerate(distances) if abs(dist - target_distance) < tolerance]\n",
        "    return indices\n",
        "\n",
        "def return_points_on_edge(points, side_length, filter=True):\n",
        "    \"\"\"\n",
        "    Filter points which are on the edge\n",
        "    \"\"\"\n",
        "    relevant     = []\n",
        "    not_relevant = []\n",
        "    for point in points:\n",
        "        (x,y,z) = point\n",
        "        if (((x%side_length==0) and (y%side_length==0)) or\n",
        "            ((y%side_length==0) and (z%side_length==0)) or\n",
        "            ((x%side_length==0) and (z%side_length==0))):\n",
        "            relevant.append(point)\n",
        "        else:\n",
        "            not_relevant.append(point)\n",
        "\n",
        "    if filter:\n",
        "        return relevant\n",
        "    else:\n",
        "        return not_relevant\n",
        "\n",
        "def check_tuple_in_sublists(big_list, index2, coord_tuple):\n",
        "    \"\"\"\n",
        "    Check if a tuple of coordinates from one sublist is present in another sublist.\n",
        "    Accounts for order reversals.\n",
        "\n",
        "    :param big_list: List containing the sublists\n",
        "    :param index2: Index of the second sublist to compare against\n",
        "    :param coord_tuple: Tuple of coordinates to check\n",
        "    :return: Boolean indicating presence\n",
        "    \"\"\"\n",
        "    sublist2 = big_list[index2]\n",
        "\n",
        "    # Check if the tuple or its reverse is present in the second sublist\n",
        "    return coord_tuple in sublist2 or coord_tuple[::-1] in sublist2"
      ]
    },
    {
      "cell_type": "code",
      "execution_count": null,
      "metadata": {
        "id": "ih8uQzXCEWkW"
      },
      "outputs": [],
      "source": [
        "\"\"\" Now, let's generate the Lattice, the Lattice has sparse connections (only two RSGs per lattice) \"\"\"\n",
        "side_length=6\n",
        "unit = side_length/6\n",
        "\n",
        "def make_RSG(start):\n",
        "    \"\"\"\n",
        "    Function to make one RSG on the cube\n",
        "    \"\"\"\n",
        "    (x0, y0, z0) = start\n",
        "    photons   = [(x0+2*unit, y0,        z0),\n",
        "                 (x0,        y0+2*unit, z0),\n",
        "                 (x0+2*unit, y0+2*unit, z0),\n",
        "                 (x0+2*unit, y0,        z0+2*unit),\n",
        "                 (x0,        y0,        z0+2*unit),\n",
        "                 (x0,        y0+2*unit, z0+2*unit)]\n",
        "    return photons\n",
        "\n",
        "def make_one_cube(origin):\n",
        "    \"\"\"\n",
        "    Function to make one cube (2 RSGs - for 6 ring Resource States)\n",
        "    \"\"\"\n",
        "    all_points = []\n",
        "    photons = make_RSG(origin)\n",
        "    all_points.append(photons)\n",
        "\n",
        "    (x0, y0, z0) = origin\n",
        "    new_start = (x0+4*unit,y0+4*unit,z0+4*unit)\n",
        "    photons = make_RSG(new_start)\n",
        "    all_points.append(photons)\n",
        "    return all_points\n",
        "\n",
        "def make_lattice(num_x, num_y, num_z):\n",
        "    \"\"\"\n",
        "    Function to make the complete lattice\n",
        "    \"\"\"\n",
        "    total_cubes = num_x*num_y*num_z\n",
        "\n",
        "    ##Find all relevant start points\n",
        "    x = np.array(list(range(num_x)))*side_length\n",
        "    y = np.array(list(range(num_y)))*side_length\n",
        "    z = np.array(list(range(num_z)))*side_length\n",
        "    points = list(np.array(np.meshgrid(x, y, z)).T.reshape(-1, 3))\n",
        "\n",
        "    ##Get the coordinates for each cube (2 RSGs)\n",
        "    cubes = []\n",
        "    lattice_photons = []\n",
        "    for start in points:\n",
        "        photons = make_one_cube(start)\n",
        "        lattice_photons.append(photons)\n",
        "\n",
        "        (x0, y0, z0) = start\n",
        "        cubes.append((x0+3*unit, y0+3*unit, z0+3*unit))\n",
        "\n",
        "    ##Now understand which cubes will be participating in the fusion process\n",
        "    neighbor_cubes = []\n",
        "    for cube in cubes:\n",
        "        distances = calculate_distances(cube, cubes)\n",
        "        indices   = find_indices_with_distance(distances, round(6*math.sqrt(3), 2))+\\\n",
        "                    find_indices_with_distance(distances, round(6*math.sqrt(2), 2))+\\\n",
        "                    find_indices_with_distance(distances, round(6*math.sqrt(1), 2))\n",
        "        indices.sort()\n",
        "        neighbor_cubes.append(indices)\n",
        "\n",
        "    ##Now find out the coordinates of photons which will participate in the fusion\n",
        "    all_fusions = []\n",
        "    for idx,neighbors in enumerate(neighbor_cubes):\n",
        "        current_points = lattice_photons[idx][0] + lattice_photons[idx][1]\n",
        "\n",
        "        cube_fusions = []\n",
        "        for point in current_points:\n",
        "            for nidx in neighbors:\n",
        "                other_points = lattice_photons[nidx][0] + lattice_photons[nidx][1]\n",
        "                (xp, yp, zp) = point\n",
        "                \"\"\"\n",
        "                The kind of connections you have when a point is on the edge is different\n",
        "                from when the point is on the face, we have that distinction here\n",
        "                \"\"\"\n",
        "                if ( ((xp % side_length)==0 and (yp % side_length)==0) or\n",
        "                     ((yp % side_length)==0 and (zp % side_length)==0) or\n",
        "                     ((xp % side_length)==0 and (zp % side_length)==0) ):\n",
        "\n",
        "                    _ = return_points_on_edge(other_points, side_length)\n",
        "                    distances = calculate_distances(point, _)\n",
        "                    indices = find_indices_with_distance(distances, round(2*math.sqrt(1), 2))\n",
        "                    cube_fusions.extend([(point, _[index]) for index in indices])\n",
        "                else:\n",
        "                    _ = return_points_on_edge(other_points, side_length, filter=False)\n",
        "                    distances = calculate_distances(point, _)\n",
        "                    indices = find_indices_with_distance(distances, round(2*math.sqrt(2), 2))\n",
        "                    cube_fusions.extend([(point, _[index]) for index in indices])\n",
        "        all_fusions.append(cube_fusions)\n",
        "\n",
        "    ##Now find the syndrome string for each fusion for pymatching\n",
        "    syndrome_map = collections.OrderedDict()\n",
        "    for idx,fusions in enumerate(all_fusions):\n",
        "        indices = list(range(len(all_fusions)))\n",
        "        indices.remove(idx)\n",
        "\n",
        "        for fusion in fusions:\n",
        "            syndrome = [0]*total_cubes\n",
        "            syndrome[idx] = 1\n",
        "            for i in indices:\n",
        "                active = check_tuple_in_sublists(all_fusions, i, fusion)\n",
        "                if active: syndrome[i] = 1;\n",
        "            syndrome_map[fusion] = syndrome\n",
        "\n",
        "    ##Form a unique fusion list\n",
        "    all_fusions = []\n",
        "    for key in syndrome_map.keys():\n",
        "        if ((key[0], key[1]) in all_fusions) or ((key[1], key[0]) in all_fusions):\n",
        "            pass\n",
        "        else:\n",
        "            all_fusions.append(key)\n",
        "\n",
        "    ##Trim the syndrome map based on this\n",
        "    duplicates = [key for key in syndrome_map.keys() if key not in all_fusions]\n",
        "    for key in duplicates:\n",
        "        del syndrome_map[key]\n",
        "\n",
        "    return syndrome_map, lattice_photons"
      ]
    },
    {
      "cell_type": "code",
      "execution_count": null,
      "metadata": {
        "id": "alMC0jtFpA8R"
      },
      "outputs": [],
      "source": [
        "num_x = 8\n",
        "num_y = 8\n",
        "num_z = 2\n",
        "syndrome_map, lattice_photons = make_lattice(num_x, num_y, num_z)"
      ]
    },
    {
      "cell_type": "markdown",
      "metadata": {
        "id": "cI2iysM6v7z1"
      },
      "source": [
        "# **MWPM: Surface Codes Example**"
      ]
    },
    {
      "cell_type": "code",
      "execution_count": null,
      "metadata": {
        "colab": {
          "base_uri": "https://localhost:8080/"
        },
        "id": "gKxWf6aku_ZO",
        "outputId": "ce127a99-16f8-4bd3-f4fa-40a701f77207"
      },
      "outputs": [
        {
          "output_type": "stream",
          "name": "stdout",
          "text": [
            "Syndrome: [1 0 0 0 1 0 0]\n",
            "Correction: [1 0 0 0 0 0 0 0 0]\n",
            "Error corrected: True\n",
            "Time taken for correction is: 254985ns\n"
          ]
        }
      ],
      "source": [
        "\"\"\"\n",
        "Getting software decoding latency numbers (Example pymatching usecase)\n",
        "The below example is for Surface Codes, we will do the photonics equivalent in the next cell\n",
        "\"\"\"\n",
        "# Example parity-check matrix for a small 3x3 surface code\n",
        "# This matrix has rows representing stabilizer checks and columns representing qubits\n",
        "# An entry of 1 means that the qubit is part of the stabilizer\n",
        "H = np.array([\n",
        "    [1, 0, 1, 0, 0, 0, 0, 0, 0],  # Z-checks\n",
        "    [0, 1, 0, 1, 0, 0, 0, 0, 0],\n",
        "    [0, 0, 0, 1, 0, 1, 0, 0, 0],\n",
        "    [0, 0, 0, 0, 1, 0, 1, 0, 0],\n",
        "    [1, 0, 0, 0, 1, 0, 0, 0, 1],\n",
        "    [0, 1, 0, 0, 0, 1, 0, 1, 0],\n",
        "    [0, 0, 0, 0, 0, 0, 1, 0, 1]\n",
        "])\n",
        "\n",
        "# Create a matching decoder using the parity-check matrix\n",
        "matching = pymatching.Matching(H)\n",
        "\n",
        "# Simulate an error: let's say an error occurred on qubit 0\n",
        "error = np.array([1, 0, 0, 0, 0, 0, 0, 0, 0])  # Error vector with a bit flip on qubit 0\n",
        "\n",
        "# Find syndrome: this step finds which stabilizers are violated due to the error\n",
        "syndrome = H @ error % 2\n",
        "print(f\"Syndrome: {syndrome}\")\n",
        "\n",
        "# Decode: use the syndrome to find the correction\n",
        "start = time.perf_counter_ns()\n",
        "correction = matching.decode(syndrome)\n",
        "end = time.perf_counter_ns()\n",
        "print(f\"Correction: {correction}\")\n",
        "\n",
        "# Verify: check if the correction matches the error\n",
        "is_corrected = np.array_equal((error + correction) % 2, np.zeros_like(error))\n",
        "print(f\"Error corrected: {is_corrected}\")\n",
        "\n",
        "# Time: print the time it took to decode the syndrome graph\n",
        "total_time = end - start\n",
        "print(f\"Time taken for correction is: {total_time}ns\")"
      ]
    },
    {
      "cell_type": "markdown",
      "metadata": {
        "id": "P4F6_8vYwB1k"
      },
      "source": [
        "# **MWPM Photonics**"
      ]
    },
    {
      "cell_type": "code",
      "execution_count": null,
      "metadata": {
        "id": "fg3ivJJ6vqxd"
      },
      "outputs": [],
      "source": [
        "fusion_bits = len(list(syndrome_map.keys()))\n",
        "syndrome_bits = len(list(syndrome_map.values())[0])\n",
        "mwpm_input = np.array([[0 for col in range(fusion_bits)] for row in range(syndrome_bits)])\n",
        "\n",
        "fusion_list = list(syndrome_map.keys())\n",
        "for fusion,syndrome in syndrome_map.items():\n",
        "    fidx = fusion_list.index(fusion)\n",
        "    sidxs = [i for i, value in enumerate(syndrome) if value == 1]\n",
        "\n",
        "    for sidx in sidxs:\n",
        "        mwpm_input[sidx][fidx] = 1\n",
        "\n",
        "matching = pymatching.Matching(mwpm_input)"
      ]
    },
    {
      "cell_type": "code",
      "execution_count": null,
      "metadata": {
        "colab": {
          "base_uri": "https://localhost:8080/"
        },
        "id": "kKukvTIGuvBP",
        "outputId": "eb449d92-5166-44f9-c7c0-651d94113676"
      },
      "outputs": [
        {
          "output_type": "stream",
          "name": "stdout",
          "text": [
            "Data: fusion bits = 498, syndrome bits = 128, total bits = 63744\n"
          ]
        }
      ],
      "source": [
        "print(\"Data: fusion bits = {}, syndrome bits = {}, total bits = {}\".format(fusion_bits, syndrome_bits, fusion_bits*syndrome_bits))"
      ]
    },
    {
      "cell_type": "code",
      "execution_count": null,
      "metadata": {
        "colab": {
          "base_uri": "https://localhost:8080/"
        },
        "id": "Nv4trcy6zlKc",
        "outputId": "d16ece9f-bc21-4d3e-88b5-11503821306a"
      },
      "outputs": [
        {
          "output_type": "stream",
          "name": "stderr",
          "text": [
            "Simulation Progress: 20001it [04:32, 73.48it/s] \n",
            "Simulation Progress: 100%|█████████▉| 19987/20000 [02:58<00:00, 140.18it/s]"
          ]
        }
      ],
      "source": [
        "nsims = 20000\n",
        "error_rate   = 0.40\n",
        "hamming_dict = dict()\n",
        "timing_db = dict()\n",
        "progress_bar = tqdm(total=nsims, desc=\"Simulation Progress\")\n",
        "\n",
        "sim = 1\n",
        "while(sim <= nsims):\n",
        "    ##Make the error string\n",
        "    error = []\n",
        "    for fusion in fusion_list:\n",
        "        random_number = random.randint(1, 100)\n",
        "        if (random_number <= error_rate*100):\n",
        "            error.append(1)\n",
        "        else:\n",
        "            error.append(0)\n",
        "\n",
        "    ##Initialize functions for hamming weight\n",
        "    syndrome = mwpm_input @ error % 2\n",
        "    hamming_weight = list(syndrome).count(1)\n",
        "    hamming_dict.setdefault(hamming_weight,0)\n",
        "    timing_db.setdefault(hamming_weight, 0)\n",
        "    hamming_dict[hamming_weight] += 1\n",
        "\n",
        "    ##Find the syndrome string & decode\n",
        "    start = time.perf_counter_ns()\n",
        "    correction = matching.decode(syndrome)\n",
        "    end = time.perf_counter_ns()\n",
        "    total_time = (end - start)/1000000\n",
        "\n",
        "    ##Record the time taken for decode\n",
        "    timing_db[hamming_weight] += total_time\n",
        "    progress_bar.update(1)\n",
        "    sim += 1\n",
        "progress_bar.update(1)\n",
        "\n",
        "##Normalize the times in both hamming dict & timing db\n",
        "for i in range(1, syndrome_bits+1):\n",
        "    hamming_dict.setdefault(i,0)\n",
        "    timing_db.setdefault(i,0)\n",
        "\n",
        "    if (hamming_dict[i] != 0):\n",
        "        timing_db[i] = timing_db[i]/hamming_dict[i]\n",
        "\n",
        "    hamming_dict[i] = hamming_dict[i]/nsims"
      ]
    },
    {
      "cell_type": "code",
      "execution_count": null,
      "metadata": {
        "colab": {
          "base_uri": "https://localhost:8080/",
          "height": 487
        },
        "id": "PZublQg_5aiP",
        "outputId": "54e0671d-f0d0-4d60-c77b-c3f6f1cf42c2"
      },
      "outputs": [
        {
          "output_type": "display_data",
          "data": {
            "text/plain": [
              "<Figure size 800x500 with 1 Axes>"
            ],
            "image/png": "[encoded data removed]"
          },
          "metadata": {}
        }
      ],
      "source": [
        "x = list(range(1, syndrome_bits+1))\n",
        "y = [hamming_dict[i] for i in x]\n",
        "\n",
        "# Create a single bar plot\n",
        "plt.figure(figsize=(8, 5))\n",
        "plt.bar(x, y, color='blue', alpha=0.7)\n",
        "\n",
        "# Add labels and title\n",
        "plt.title('Hamming Weight Distribution')\n",
        "plt.xlabel('Hamming Weight')\n",
        "plt.ylabel('% Occurence')\n",
        "\n",
        "# Show plot\n",
        "plt.show()"
      ]
    },
    {
      "cell_type": "code",
      "execution_count": null,
      "metadata": {
        "colab": {
          "base_uri": "https://localhost:8080/",
          "height": 487
        },
        "id": "oXdK47CN8bGz",
        "outputId": "ae002532-46b1-4cc2-8acd-a242a0efd996"
      },
      "outputs": [
        {
          "output_type": "display_data",
          "data": {
            "text/plain": [
              "<Figure size 800x500 with 1 Axes>"
            ],
            "image/png": "[encoded data removed]"
          },
          "metadata": {}
        }
      ],
      "source": [
        "x = list(range(1, syndrome_bits+1))\n",
        "y = [timing_db[i] for i in x]\n",
        "\n",
        "# Create a single bar plot\n",
        "plt.figure(figsize=(8, 5))\n",
        "plt.bar(x, y, color='blue', alpha=0.7)\n",
        "\n",
        "# Add labels and title\n",
        "plt.title('Avg Decoding Time')\n",
        "plt.xlabel('Hamming Weight')\n",
        "plt.ylabel('Avg Time (ms) to decode')\n",
        "\n",
        "# Show plot\n",
        "plt.show()"
      ]
    },
    {
      "cell_type": "code",
      "execution_count": null,
      "metadata": {
        "id": "5WwmYbF0daJN"
      },
      "outputs": [],
      "source": []
    }
  ],
  "metadata": {
    "colab": {
      "provenance": []
    },
    "kernelspec": {
      "display_name": "Python 3 (ipykernel)",
      "language": "python",
      "name": "python3"
    },
    "language_info": {
      "codemirror_mode": {
        "name": "ipython",
        "version": 3
      },
      "file_extension": ".py",
      "mimetype": "text/x-python",
      "name": "python",
      "nbconvert_exporter": "python",
      "pygments_lexer": "ipython3",
      "version": "3.11.4"
    }
  },
  "nbformat": 4,
  "nbformat_minor": 0
}